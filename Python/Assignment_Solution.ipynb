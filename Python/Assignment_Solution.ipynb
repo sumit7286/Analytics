{
 "cells": [
  {
   "cell_type": "markdown",
   "metadata": {},
   "source": [
    "## Importing data files and visualization "
   ]
  },
  {
   "cell_type": "code",
   "execution_count": 3,
   "metadata": {},
   "outputs": [],
   "source": [
    "#Importing the X_train and Y_train data \n",
    "import pandas as pd\n",
    "X_train = pd.read_csv('X_train.txt', sep = '\\n', names = ['X_train'])\n",
    "Y_train = pd.read_csv('Y_train.txt', sep = '\\n', names = ['Y_train'])"
   ]
  },
  {
   "cell_type": "code",
   "execution_count": 4,
   "metadata": {},
   "outputs": [
    {
     "data": {
      "text/html": [
       "<div>\n",
       "<style scoped>\n",
       "    .dataframe tbody tr th:only-of-type {\n",
       "        vertical-align: middle;\n",
       "    }\n",
       "\n",
       "    .dataframe tbody tr th {\n",
       "        vertical-align: top;\n",
       "    }\n",
       "\n",
       "    .dataframe thead th {\n",
       "        text-align: right;\n",
       "    }\n",
       "</style>\n",
       "<table border=\"1\" class=\"dataframe\">\n",
       "  <thead>\n",
       "    <tr style=\"text-align: right;\">\n",
       "      <th></th>\n",
       "      <th>X_train</th>\n",
       "      <th>Y_train</th>\n",
       "    </tr>\n",
       "  </thead>\n",
       "  <tbody>\n",
       "    <tr>\n",
       "      <th>0</th>\n",
       "      <td>0.010050</td>\n",
       "      <td>0.300949</td>\n",
       "    </tr>\n",
       "    <tr>\n",
       "      <th>1</th>\n",
       "      <td>-0.316583</td>\n",
       "      <td>-9.705391</td>\n",
       "    </tr>\n",
       "    <tr>\n",
       "      <th>2</th>\n",
       "      <td>-1.396985</td>\n",
       "      <td>-9.460064</td>\n",
       "    </tr>\n",
       "    <tr>\n",
       "      <th>3</th>\n",
       "      <td>0.839196</td>\n",
       "      <td>28.712076</td>\n",
       "    </tr>\n",
       "    <tr>\n",
       "      <th>4</th>\n",
       "      <td>-1.296482</td>\n",
       "      <td>-12.910477</td>\n",
       "    </tr>\n",
       "  </tbody>\n",
       "</table>\n",
       "</div>"
      ],
      "text/plain": [
       "    X_train    Y_train\n",
       "0  0.010050   0.300949\n",
       "1 -0.316583  -9.705391\n",
       "2 -1.396985  -9.460064\n",
       "3  0.839196  28.712076\n",
       "4 -1.296482 -12.910477"
      ]
     },
     "execution_count": 4,
     "metadata": {},
     "output_type": "execute_result"
    }
   ],
   "source": [
    "#Concating the X & Y for further analysis\n",
    "data = pd.concat([X_train, Y_train], axis=1, sort=False)\n",
    "data.head()"
   ]
  },
  {
   "cell_type": "code",
   "execution_count": 6,
   "metadata": {},
   "outputs": [
    {
     "data": {
      "text/plain": [
       "<matplotlib.axes._subplots.AxesSubplot at 0x1a1ba33278>"
      ]
     },
     "execution_count": 6,
     "metadata": {},
     "output_type": "execute_result"
    },
    {
     "data": {
      "image/png": "[encoded data removed]",
      "text/plain": [
       "<Figure size 720x576 with 1 Axes>"
      ]
     },
     "metadata": {
      "needs_background": "light"
     },
     "output_type": "display_data"
    }
   ],
   "source": [
    "#Scatter plot to visulaize the relationship between X & Y\n",
    "import matplotlib.pyplot as plt\n",
    "import seaborn as sns\n",
    "%matplotlib inline\n",
    "plt.figure( figsize = ( 10, 8 ) )\n",
    "sns.scatterplot(data.X_train,data.Y_train)"
   ]
  },
  {
   "cell_type": "markdown",
   "metadata": {},
   "source": [
    "### Assuming the relationship: Y = m * X^2 + c. Will be fitting linear regression on X^2 and Y using Gradient Algorithm. "
   ]
  },
  {
   "cell_type": "code",
   "execution_count": 8,
   "metadata": {},
   "outputs": [
    {
     "data": {
      "text/html": [
       "<div>\n",
       "<style scoped>\n",
       "    .dataframe tbody tr th:only-of-type {\n",
       "        vertical-align: middle;\n",
       "    }\n",
       "\n",
       "    .dataframe tbody tr th {\n",
       "        vertical-align: top;\n",
       "    }\n",
       "\n",
       "    .dataframe thead th {\n",
       "        text-align: right;\n",
       "    }\n",
       "</style>\n",
       "<table border=\"1\" class=\"dataframe\">\n",
       "  <thead>\n",
       "    <tr style=\"text-align: right;\">\n",
       "      <th></th>\n",
       "      <th>X_train</th>\n",
       "      <th>Y_train</th>\n",
       "      <th>X2_train</th>\n",
       "    </tr>\n",
       "  </thead>\n",
       "  <tbody>\n",
       "    <tr>\n",
       "      <th>0</th>\n",
       "      <td>0.010050</td>\n",
       "      <td>0.300949</td>\n",
       "      <td>0.000101</td>\n",
       "    </tr>\n",
       "    <tr>\n",
       "      <th>1</th>\n",
       "      <td>-0.316583</td>\n",
       "      <td>-9.705391</td>\n",
       "      <td>0.100225</td>\n",
       "    </tr>\n",
       "    <tr>\n",
       "      <th>2</th>\n",
       "      <td>-1.396985</td>\n",
       "      <td>-9.460064</td>\n",
       "      <td>1.951567</td>\n",
       "    </tr>\n",
       "    <tr>\n",
       "      <th>3</th>\n",
       "      <td>0.839196</td>\n",
       "      <td>28.712076</td>\n",
       "      <td>0.704250</td>\n",
       "    </tr>\n",
       "    <tr>\n",
       "      <th>4</th>\n",
       "      <td>-1.296482</td>\n",
       "      <td>-12.910477</td>\n",
       "      <td>1.680866</td>\n",
       "    </tr>\n",
       "  </tbody>\n",
       "</table>\n",
       "</div>"
      ],
      "text/plain": [
       "    X_train    Y_train  X2_train\n",
       "0  0.010050   0.300949  0.000101\n",
       "1 -0.316583  -9.705391  0.100225\n",
       "2 -1.396985  -9.460064  1.951567\n",
       "3  0.839196  28.712076  0.704250\n",
       "4 -1.296482 -12.910477  1.680866"
      ]
     },
     "execution_count": 8,
     "metadata": {},
     "output_type": "execute_result"
    }
   ],
   "source": [
    "# Creating a new field, X_train^2 for further analysis\n",
    "data['X2_train']=data['X_train']*data['X_train']\n",
    "data.head()"
   ]
  },
  {
   "cell_type": "markdown",
   "metadata": {},
   "source": [
    "## 1. Find the function and its parameters which map X_train to Y_train (Hint: assume a polynomial function) "
   ]
  },
  {
   "cell_type": "code",
   "execution_count": 9,
   "metadata": {},
   "outputs": [
    {
     "name": "stdout",
     "output_type": "stream",
     "text": [
      "2.832091361971005 1.3825233945322648\n"
     ]
    }
   ],
   "source": [
    "# Building the model\n",
    "m = 0 # Slope\n",
    "c = 0 # Intercept \n",
    "\n",
    "L = 0.0001  # The learning Rate\n",
    "epochs = 1000  # The number of iterations to perform gradient descent\n",
    "\n",
    "n = float(len(data['X2_train'])) # Number of elements in X_train\n",
    "\n",
    "# Performing Gradient Descent \n",
    "for i in range(epochs): \n",
    "    Y_pred = m*data['X2_train'] + c  # The current predicted value of Y\n",
    "    D_m = (-2/n) * sum(data['X2_train'] * (data['Y_train'] - Y_pred))  # Sum of Least sq function: Derivative wrt m\n",
    "    D_c = (-2/n) * sum(data['Y_train'] - Y_pred)  # Sum of Least sq function: Derivative wrt c\n",
    "    m = m - L * D_m  # Update m\n",
    "    c = c - L * D_c  # Update c\n",
    "    \n",
    "print (m, c)"
   ]
  },
  {
   "cell_type": "markdown",
   "metadata": {},
   "source": [
    "### Function: Y = 2.83 * X^2 + 1.38 "
   ]
  },
  {
   "cell_type": "markdown",
   "metadata": {},
   "source": [
    "## 2. Find the estimated values of Y_train using the function above and X_train "
   ]
  },
  {
   "cell_type": "code",
   "execution_count": 14,
   "metadata": {},
   "outputs": [
    {
     "data": {
      "text/html": [
       "<div>\n",
       "<style scoped>\n",
       "    .dataframe tbody tr th:only-of-type {\n",
       "        vertical-align: middle;\n",
       "    }\n",
       "\n",
       "    .dataframe tbody tr th {\n",
       "        vertical-align: top;\n",
       "    }\n",
       "\n",
       "    .dataframe thead th {\n",
       "        text-align: right;\n",
       "    }\n",
       "</style>\n",
       "<table border=\"1\" class=\"dataframe\">\n",
       "  <thead>\n",
       "    <tr style=\"text-align: right;\">\n",
       "      <th></th>\n",
       "      <th>X_train</th>\n",
       "      <th>Y_train</th>\n",
       "      <th>X2_train</th>\n",
       "      <th>Y_estimated</th>\n",
       "    </tr>\n",
       "  </thead>\n",
       "  <tbody>\n",
       "    <tr>\n",
       "      <th>0</th>\n",
       "      <td>0.010050</td>\n",
       "      <td>0.300949</td>\n",
       "      <td>0.000101</td>\n",
       "      <td>1.382809</td>\n",
       "    </tr>\n",
       "    <tr>\n",
       "      <th>1</th>\n",
       "      <td>-0.316583</td>\n",
       "      <td>-9.705391</td>\n",
       "      <td>0.100225</td>\n",
       "      <td>1.666369</td>\n",
       "    </tr>\n",
       "    <tr>\n",
       "      <th>2</th>\n",
       "      <td>-1.396985</td>\n",
       "      <td>-9.460064</td>\n",
       "      <td>1.951567</td>\n",
       "      <td>6.909540</td>\n",
       "    </tr>\n",
       "    <tr>\n",
       "      <th>3</th>\n",
       "      <td>0.839196</td>\n",
       "      <td>28.712076</td>\n",
       "      <td>0.704250</td>\n",
       "      <td>3.377024</td>\n",
       "    </tr>\n",
       "    <tr>\n",
       "      <th>4</th>\n",
       "      <td>-1.296482</td>\n",
       "      <td>-12.910477</td>\n",
       "      <td>1.680866</td>\n",
       "      <td>6.142888</td>\n",
       "    </tr>\n",
       "  </tbody>\n",
       "</table>\n",
       "</div>"
      ],
      "text/plain": [
       "    X_train    Y_train  X2_train  Y_estimated\n",
       "0  0.010050   0.300949  0.000101     1.382809\n",
       "1 -0.316583  -9.705391  0.100225     1.666369\n",
       "2 -1.396985  -9.460064  1.951567     6.909540\n",
       "3  0.839196  28.712076  0.704250     3.377024\n",
       "4 -1.296482 -12.910477  1.680866     6.142888"
      ]
     },
     "execution_count": 14,
     "metadata": {},
     "output_type": "execute_result"
    }
   ],
   "source": [
    "#Calculating the value of Y_estimate\n",
    "data['Y_estimated']=m*data['X_train']*data['X_train']+c\n",
    "data.head()"
   ]
  },
  {
   "cell_type": "markdown",
   "metadata": {},
   "source": [
    "## 3. Estimate the test output, Y_test at each value of X_test "
   ]
  },
  {
   "cell_type": "code",
   "execution_count": 11,
   "metadata": {},
   "outputs": [],
   "source": [
    "#Importing the X_test file\n",
    "test = pd.read_csv('X_test.txt', sep = '\\n', names = ['X_test'])"
   ]
  },
  {
   "cell_type": "code",
   "execution_count": 13,
   "metadata": {},
   "outputs": [
    {
     "data": {
      "text/html": [
       "<div>\n",
       "<style scoped>\n",
       "    .dataframe tbody tr th:only-of-type {\n",
       "        vertical-align: middle;\n",
       "    }\n",
       "\n",
       "    .dataframe tbody tr th {\n",
       "        vertical-align: top;\n",
       "    }\n",
       "\n",
       "    .dataframe thead th {\n",
       "        text-align: right;\n",
       "    }\n",
       "</style>\n",
       "<table border=\"1\" class=\"dataframe\">\n",
       "  <thead>\n",
       "    <tr style=\"text-align: right;\">\n",
       "      <th></th>\n",
       "      <th>X_test</th>\n",
       "      <th>Y_test</th>\n",
       "    </tr>\n",
       "  </thead>\n",
       "  <tbody>\n",
       "    <tr>\n",
       "      <th>0</th>\n",
       "      <td>1.391960</td>\n",
       "      <td>6.869849</td>\n",
       "    </tr>\n",
       "    <tr>\n",
       "      <th>1</th>\n",
       "      <td>0.964824</td>\n",
       "      <td>4.018876</td>\n",
       "    </tr>\n",
       "    <tr>\n",
       "      <th>2</th>\n",
       "      <td>-1.271357</td>\n",
       "      <td>5.960170</td>\n",
       "    </tr>\n",
       "    <tr>\n",
       "      <th>3</th>\n",
       "      <td>0.788945</td>\n",
       "      <td>3.145314</td>\n",
       "    </tr>\n",
       "    <tr>\n",
       "      <th>4</th>\n",
       "      <td>-0.241206</td>\n",
       "      <td>1.547295</td>\n",
       "    </tr>\n",
       "  </tbody>\n",
       "</table>\n",
       "</div>"
      ],
      "text/plain": [
       "     X_test    Y_test\n",
       "0  1.391960  6.869849\n",
       "1  0.964824  4.018876\n",
       "2 -1.271357  5.960170\n",
       "3  0.788945  3.145314\n",
       "4 -0.241206  1.547295"
      ]
     },
     "execution_count": 13,
     "metadata": {},
     "output_type": "execute_result"
    }
   ],
   "source": [
    "#Calculating the value of Y_test \n",
    "test['Y_test']=m*test['X_test']*test['X_test']+c\n",
    "test.head()"
   ]
  },
  {
   "cell_type": "markdown",
   "metadata": {},
   "source": [
    "## 4. Plot the estimated values of Y_train, Y_test and Y_train with respect to X_train and X_test "
   ]
  },
  {
   "cell_type": "code",
   "execution_count": 17,
   "metadata": {},
   "outputs": [
    {
     "data": {
      "text/plain": [
       "<matplotlib.axes._subplots.AxesSubplot at 0x1a1bfdc0b8>"
      ]
     },
     "execution_count": 17,
     "metadata": {},
     "output_type": "execute_result"
    },
    {
     "data": {
      "image/png": "[encoded data removed]",
      "text/plain": [
       "<Figure size 720x576 with 1 Axes>"
      ]
     },
     "metadata": {
      "needs_background": "light"
     },
     "output_type": "display_data"
    }
   ],
   "source": [
    "#X_train vs Y_estimates\n",
    "plt.figure( figsize = ( 10, 8 ) )\n",
    "sns.scatterplot(data.X_train,data.Y_estimated)"
   ]
  },
  {
   "cell_type": "code",
   "execution_count": 18,
   "metadata": {},
   "outputs": [
    {
     "data": {
      "text/plain": [
       "<matplotlib.axes._subplots.AxesSubplot at 0x1a1c2a3fd0>"
      ]
     },
     "execution_count": 18,
     "metadata": {},
     "output_type": "execute_result"
    },
    {
     "data": {
      "image/png": "[encoded data removed]",
      "text/plain": [
       "<Figure size 720x576 with 1 Axes>"
      ]
     },
     "metadata": {
      "needs_background": "light"
     },
     "output_type": "display_data"
    }
   ],
   "source": [
    "#X_test vs Y_test\n",
    "plt.figure( figsize = ( 10, 8 ) )\n",
    "sns.scatterplot(test.X_test,test.Y_test)"
   ]
  },
  {
   "cell_type": "markdown",
   "metadata": {},
   "source": [
    "## 5. Find the mean and variance of the absolute error between estimated values of Y_train and Y_train "
   ]
  },
  {
   "cell_type": "code",
   "execution_count": 19,
   "metadata": {},
   "outputs": [],
   "source": [
    "#Calculating absolute error between Y_train and Y_estimated\n",
    "data['error']=abs(data['Y_train']-data['Y_estimated'])"
   ]
  },
  {
   "cell_type": "code",
   "execution_count": 20,
   "metadata": {},
   "outputs": [
    {
     "data": {
      "text/plain": [
       "(17.054263583415853, 86.55560163059809)"
      ]
     },
     "execution_count": 20,
     "metadata": {},
     "output_type": "execute_result"
    }
   ],
   "source": [
    "#Computing mean and variance \n",
    "import numpy as np\n",
    "mean=np.mean(data['error'])\n",
    "variance=np.var(data['error'])\n",
    "mean, variance"
   ]
  },
  {
   "cell_type": "markdown",
   "metadata": {},
   "source": [
    "## 6. Use the validation set to analyze and reason whether the above function will generalize or overfit and how to find the most optimum function and its parameters to avoid underfitting / overfitting. Then revisit the above steps and verify whether the function estimated in Question 1 generalizes well enough. "
   ]
  },
  {
   "cell_type": "code",
   "execution_count": 21,
   "metadata": {},
   "outputs": [],
   "source": [
    "#Importing validation dataset\n",
    "X_validation = pd.read_csv('X_validation.txt', sep = '\\n', names = ['X_validation'])\n",
    "Y_validation = pd.read_csv('Y_validation.txt', sep = '\\n', names = ['Y_validation'])\n",
    "valid = pd.concat([X_validation, Y_validation], axis=1, sort=False)"
   ]
  },
  {
   "cell_type": "code",
   "execution_count": 22,
   "metadata": {},
   "outputs": [
    {
     "data": {
      "text/html": [
       "<div>\n",
       "<style scoped>\n",
       "    .dataframe tbody tr th:only-of-type {\n",
       "        vertical-align: middle;\n",
       "    }\n",
       "\n",
       "    .dataframe tbody tr th {\n",
       "        vertical-align: top;\n",
       "    }\n",
       "\n",
       "    .dataframe thead th {\n",
       "        text-align: right;\n",
       "    }\n",
       "</style>\n",
       "<table border=\"1\" class=\"dataframe\">\n",
       "  <thead>\n",
       "    <tr style=\"text-align: right;\">\n",
       "      <th></th>\n",
       "      <th>X_validation</th>\n",
       "      <th>Y_validation</th>\n",
       "      <th>Y_estimate</th>\n",
       "      <th>error</th>\n",
       "      <th>error_abs</th>\n",
       "    </tr>\n",
       "  </thead>\n",
       "  <tbody>\n",
       "    <tr>\n",
       "      <th>0</th>\n",
       "      <td>-1.597990</td>\n",
       "      <td>-11.574706</td>\n",
       "      <td>-10.174059</td>\n",
       "      <td>-1.400647</td>\n",
       "      <td>1.400647</td>\n",
       "    </tr>\n",
       "    <tr>\n",
       "      <th>1</th>\n",
       "      <td>2.974874</td>\n",
       "      <td>2.640643</td>\n",
       "      <td>75.943740</td>\n",
       "      <td>-73.303097</td>\n",
       "      <td>73.303097</td>\n",
       "    </tr>\n",
       "    <tr>\n",
       "      <th>2</th>\n",
       "      <td>2.422111</td>\n",
       "      <td>23.823780</td>\n",
       "      <td>41.625434</td>\n",
       "      <td>-17.801654</td>\n",
       "      <td>17.801654</td>\n",
       "    </tr>\n",
       "    <tr>\n",
       "      <th>3</th>\n",
       "      <td>1.693467</td>\n",
       "      <td>36.299918</td>\n",
       "      <td>15.136791</td>\n",
       "      <td>21.163127</td>\n",
       "      <td>21.163127</td>\n",
       "    </tr>\n",
       "    <tr>\n",
       "      <th>4</th>\n",
       "      <td>0.286432</td>\n",
       "      <td>15.523480</td>\n",
       "      <td>1.449077</td>\n",
       "      <td>14.074403</td>\n",
       "      <td>14.074403</td>\n",
       "    </tr>\n",
       "  </tbody>\n",
       "</table>\n",
       "</div>"
      ],
      "text/plain": [
       "   X_validation  Y_validation  Y_estimate      error  error_abs\n",
       "0     -1.597990    -11.574706  -10.174059  -1.400647   1.400647\n",
       "1      2.974874      2.640643   75.943740 -73.303097  73.303097\n",
       "2      2.422111     23.823780   41.625434 -17.801654  17.801654\n",
       "3      1.693467     36.299918   15.136791  21.163127  21.163127\n",
       "4      0.286432     15.523480    1.449077  14.074403  14.074403"
      ]
     },
     "execution_count": 22,
     "metadata": {},
     "output_type": "execute_result"
    }
   ],
   "source": [
    "#Calculating error and Abs error\n",
    "valid['Y_estimate']=m*valid['X_validation']*valid['X_validation']*valid['X_validation']+c\n",
    "valid['error']=valid['Y_validation']-valid['Y_estimate']\n",
    "valid['error_abs']=abs(valid['Y_validation']-valid['Y_estimate'])\n",
    "valid.head()"
   ]
  },
  {
   "cell_type": "code",
   "execution_count": 23,
   "metadata": {},
   "outputs": [
    {
     "data": {
      "text/plain": [
       "(-0.24849618473804647, 21.11062978362083)"
      ]
     },
     "execution_count": 23,
     "metadata": {},
     "output_type": "execute_result"
    }
   ],
   "source": [
    "#Calculating Mean error and Mean absolute\n",
    "mean_error=np.mean(valid['error'])\n",
    "mean_error_abs=np.mean(valid['error_abs'])\n",
    "mean_error, mean_error_abs"
   ]
  },
  {
   "cell_type": "markdown",
   "metadata": {},
   "source": [
    "## 7. Write a code for gradient descent algorithm to solve the least squares between the Y_train and estimated value of Y_train. Find the optimum learning rate, plot the variation of error with respect to iteration number and analyze the convergence of the gradient descent algorithm "
   ]
  },
  {
   "cell_type": "code",
   "execution_count": 26,
   "metadata": {},
   "outputs": [
    {
     "data": {
      "text/plain": [
       "<matplotlib.axes._subplots.AxesSubplot at 0x1a1c5d25c0>"
      ]
     },
     "execution_count": 26,
     "metadata": {},
     "output_type": "execute_result"
    },
    {
     "data": {
      "image/png": "[encoded data removed]",
      "text/plain": [
       "<Figure size 720x576 with 1 Axes>"
      ]
     },
     "metadata": {
      "needs_background": "light"
     },
     "output_type": "display_data"
    }
   ],
   "source": [
    "#Scaltter plot Y_train vs Y_estimated\n",
    "plt.figure( figsize = ( 10, 8 ) )\n",
    "sns.scatterplot(data.Y_train,data.Y_estimated)"
   ]
  },
  {
   "cell_type": "code",
   "execution_count": 27,
   "metadata": {},
   "outputs": [
    {
     "name": "stdout",
     "output_type": "stream",
     "text": [
      "0.20007344318978004 0.9213010466968681\n"
     ]
    }
   ],
   "source": [
    "# Building the model\n",
    "m = 0\n",
    "c = 0\n",
    "\n",
    "L = 0.0001  # The learning Rate\n",
    "epochs = 1000  # The number of iterations to perform gradient descent\n",
    "\n",
    "n = float(len(data['Y_train'])) # Number of elements in X_train\n",
    "\n",
    "# Performing Gradient Descent \n",
    "for i in range(epochs): \n",
    "    Y_pred = m*data['Y_train'] + c  # The current predicted value of Y\n",
    "    D_m = (-2/n) * sum(data['Y_train'] * (data['Y_estimated'] - Y_pred))  # Derivative wrt m\n",
    "    D_c = (-2/n) * sum(data['Y_estimated'] - Y_pred)  # Derivative wrt c\n",
    "    m = m - L * D_m  # Update m\n",
    "    c = c - L * D_c  # Update c\n",
    "    \n",
    "print (m, c)"
   ]
  },
  {
   "cell_type": "code",
   "execution_count": null,
   "metadata": {},
   "outputs": [],
   "source": []
  }
 ],
 "metadata": {
  "kernelspec": {
   "display_name": "Python 3",
   "language": "python",
   "name": "python3"
  },
  "language_info": {
   "codemirror_mode": {
    "name": "ipython",
    "version": 3
   },
   "file_extension": ".py",
   "mimetype": "text/x-python",
   "name": "python",
   "nbconvert_exporter": "python",
   "pygments_lexer": "ipython3",
   "version": "3.7.3"
  }
 },
 "nbformat": 4,
 "nbformat_minor": 2
}
